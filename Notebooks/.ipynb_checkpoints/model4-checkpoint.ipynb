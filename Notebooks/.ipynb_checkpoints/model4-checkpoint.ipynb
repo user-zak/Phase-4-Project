{
 "cells": [
  {
   "cell_type": "code",
   "execution_count": null,
   "metadata": {
    "id": "nNOUIjrEdke7"
   },
   "outputs": [],
   "source": [
    "from google.colab import drive\n",
    "drive.mount('/content/drive')"
   ]
  },
  {
   "cell_type": "code",
   "execution_count": null,
   "metadata": {
    "id": "ouiluAFKdkL6"
   },
   "outputs": [],
   "source": [
    "train_path = '/content/drive/MyDrive/Phase-4-project/train'\n",
    "test_path = '/content/drive/MyDrive/Phase-4-project/test'\n",
    "val_path = '/content/drive/MyDrive/Phase-4-project/val'"
   ]
  },
  {
   "cell_type": "code",
   "execution_count": null,
   "metadata": {
    "id": "vepSYytuZUlb"
   },
   "outputs": [],
   "source": [
    "from tensorflow.keras.preprocessing.image import ImageDataGenerator\n",
    "\n",
    "# Define image dimensions\n",
    "image_height, image_width = 224, 224​\n",
    "# Create data generators with preprocessing and augmentation for training data\n",
    "train_datagen = ImageDataGenerator(\n",
    "    rescale=1.0/255.0,             # Normalize pixel values to [0, 1]\n",
    "    rotation_range=20,            # Random rotation\n",
    "    width_shift_range=0.2,        # Random horizontal shift\n",
    "    height_shift_range=0.2,       # Random vertical shift\n",
    "    horizontal_flip=True,         # Random horizontal flip\n",
    "    shear_range=0.2,              # Shear intensity\n",
    "    zoom_range=0.2                # Random zoom\n",
    "\n",
    ")\n",
    "# Create data generators for validation and test data (only rescaling)\n",
    "val_datagen = ImageDataGenerator(rescale=1.0/255.0)\n",
    "test_datagen = ImageDataGenerator(rescale=1.0/255.0)\n"
   ]
  },
  {
   "cell_type": "code",
   "execution_count": null,
   "metadata": {
    "id": "QlXpk-XXZ8v7"
   },
   "outputs": [],
   "source": [
    "# Flow data from directories and apply preprocessing\n",
    "batch_size = 32\n",
    "train_generator = train_datagen.flow_from_directory(\n",
    "    train_path,\n",
    "    target_size=(image_height, image_width),\n",
    "    batch_size=batch_size,\n",
    "    class_mode='binary'  # Assuming binary classification (e.g., pneumonia vs. normal)\n",
    ")\n",
    "val_generator = val_datagen.flow_from_directory(\n",
    "    val_path,\n",
    "    target_size=(image_height, image_width),\n",
    "    batch_size=batch_size,\n",
    "    class_mode='binary'\n",
    ")\n",
    "\n",
    "test_generator = test_datagen.flow_from_directory(\n",
    "    test_path,\n",
    "    target_size=(image_height, image_width),\n",
    "    batch_size=batch_size,\n",
    "    class_mode='binary'\n",
    ")"
   ]
  },
  {
   "cell_type": "code",
   "execution_count": null,
   "metadata": {
    "id": "3ofjBdoaaKPA"
   },
   "outputs": [],
   "source": [
    "from tensorflow.keras.optimizers import Adam\n",
    "from tensorflow.keras.callbacks import LearningRateScheduler\n",
    "\n",
    "# Create a Sequential model (model4)\n",
    "model4 = Sequential()\n",
    "\n",
    "# Convolutional layers\n",
    "model4.add(Conv2D(128, (3, 3), activation='relu', input_shape=(image_height, image_width, 3)))\n",
    "model4.add(MaxPooling2D((2, 2)))\n",
    "\n",
    "model4.add(Conv2D(256, (3, 3), activation='relu'))\n",
    "model4.add(MaxPooling2D((2, 2)))\n",
    "\n",
    "# Flatten the output for the fully connected layers\n",
    "model4.add(Flatten())\n",
    "\n",
    "# Fully connected layers\n",
    "model4.add(Dense(512, activation='relu'))\n",
    "\n",
    "# Output layer\n",
    "model4.add(Dense(1, activation='sigmoid'))\n",
    "\n",
    "# Define a learning rate schedule function\n",
    "def lr_schedule(epoch):\n",
    "    \"\"\"\n",
    "    Learning rate schedule function.\n",
    "    Adjust the learning rate based on the current epoch.\n",
    "    \"\"\"\n",
    "    initial_lr = 0.001  # Initial learning rate\n",
    "    if epoch < 5:\n",
    "        return initial_lr  # Keep the initial learning rate for the first 5 epochs\n",
    "    else:\n",
    "        return initial_lr * 0.1  # Reduce the learning rate by a factor of 10 after the 5th epoch\n",
    "\n",
    "# Compile the model with a custom optimizer that uses the learning rate schedule\n",
    "custom_optimizer = Adam(learning_rate=lr_schedule(0))\n",
    "model4.compile(optimizer=custom_optimizer, loss='binary_crossentropy', metrics=['accuracy'])\n",
    "\n",
    "# Display the model summary\n",
    "model4.summary()\n"
   ]
  },
  {
   "cell_type": "code",
   "execution_count": null,
   "metadata": {
    "id": "uWRqr39eaSbV"
   },
   "outputs": [],
   "source": [
    "# Define callbacks\n",
    "# Save the best model during training\n",
    "from tensorflow.keras.callbacks import EarlyStopping, ModelCheckpoint\n",
    "model_checkpoint = ModelCheckpoint('best_model4.h5', save_best_only=True, save_weights_only=False, monitor='val_accuracy', mode='max', verbose=1)\n",
    "\n",
    "# Early stopping to prevent overfitting\n",
    "early_stopping = EarlyStopping(monitor='val_loss', patience=5, restore_best_weights=True)"
   ]
  },
  {
   "cell_type": "code",
   "execution_count": null,
   "metadata": {
    "id": "Tg14ZidyaTAS"
   },
   "outputs": [],
   "source": [
    "# Define the number of epochs\n",
    "epochs = 20\n",
    "\n",
    "# Fit the model to the training data\n",
    "history4 = model4.fit(\n",
    "    train_generator,\n",
    "    epochs=epochs,\n",
    "    validation_data=val_generator,\n",
    "    callbacks=[model_checkpoint, early_stopping]\n",
    ")"
   ]
  },
  {
   "cell_type": "markdown",
   "metadata": {
    "id": "WH308j-marXC"
   },
   "source": [
    "## Important Note\n",
    "Please note that in this notebook, as well as in others, you may observe that the preceding cell has not been executed. This is due to a specific reason.\n",
    "\n",
    "Given that I had already trained the model before transferring it here, it was unnecessary to expend both computational resources and time on redundant training. Moreover, Google Colab's GPU has a time limit, and I encountered issues where it would frequently terminate during the training of certain models.\n",
    "\n",
    "To address this challenge, I employed an effective albeit unconventional approach. I pickled the training history and saved it to my local drive, alongside storing the best-performing model. This strategy allows me to load both the pickle file containing the training history and the pre-trained model, enabling me to resume work promptly without the need for redundant training."
   ]
  },
  {
   "cell_type": "markdown",
   "metadata": {
    "id": "kVfu0VL1arDS"
   },
   "source": [
    "Here is the pickling:"
   ]
  },
  {
   "cell_type": "code",
   "execution_count": null,
   "metadata": {
    "id": "XUMm1PVCa7xr"
   },
   "outputs": [],
   "source": [
    "#Save the training history\n",
    "import pickle\n",
    "with open('history4.pkl', 'wb') as file:\n",
    "    pickle.dump(history4.history, file)"
   ]
  },
  {
   "cell_type": "markdown",
   "metadata": {
    "id": "WsZFsfJEa-kA"
   },
   "source": [
    "Now let's load both the pickled history and the model."
   ]
  },
  {
   "cell_type": "code",
   "execution_count": null,
   "metadata": {
    "id": "2HXfhuKYbIs4"
   },
   "outputs": [],
   "source": [
    "import pickle\n",
    "with open('/content/drive/MyDrive/history4.pkl', 'rb') as file:\n",
    "    history4 = pickle.load(file)"
   ]
  },
  {
   "cell_type": "code",
   "execution_count": null,
   "metadata": {
    "id": "Sgr6E3qfbLqB"
   },
   "outputs": [],
   "source": [
    "from keras import models\n",
    "best_model4 = models.load_model('/content/drive/MyDrive/best_model4.h5')\n"
   ]
  },
  {
   "cell_type": "code",
   "execution_count": null,
   "metadata": {
    "id": "tnDdRmeBalr8"
   },
   "outputs": [],
   "source": [
    "import matplotlib.pyplot as plt\n",
    "# Plot training & validation accuracy values\n",
    "plt.figure(figsize=(12, 5))\n",
    "plt.subplot(1, 2, 1)\n",
    "plt.plot(history4['accuracy'])\n",
    "plt.plot(history4['val_accuracy'])\n",
    "plt.title('Model Accuracy')\n",
    "plt.xlabel('Epoch')\n",
    "plt.ylabel('Accuracy')\n",
    "plt.legend(['Train', 'Validation'], loc='upper left')\n",
    "\n",
    "# Plot training & validation loss values\n",
    "plt.subplot(1, 2, 2)\n",
    "plt.plot(history4['loss'])\n",
    "plt.plot(history4['val_loss'])\n",
    "plt.title('Model Loss')\n",
    "plt.xlabel('Epoch')\n",
    "plt.ylabel('Loss')\n",
    "plt.legend(['Train', 'Validation'], loc='upper right')\n",
    "\n",
    "plt.tight_layout()\n",
    "plt.show()"
   ]
  },
  {
   "cell_type": "code",
   "execution_count": null,
   "metadata": {
    "id": "cDF3Fc__bQlD"
   },
   "outputs": [],
   "source": [
    "best_model4.evaluate(train_generator)"
   ]
  },
  {
   "cell_type": "code",
   "execution_count": null,
   "metadata": {
    "id": "POMXsk_NbQb_"
   },
   "outputs": [],
   "source": [
    "best_model4.evaluate(val_generator)"
   ]
  },
  {
   "cell_type": "code",
   "execution_count": null,
   "metadata": {
    "id": "K7hcyLNZbQTH"
   },
   "outputs": [],
   "source": [
    "best_model4.evaluate(test_generator)"
   ]
  }
 ],
 "metadata": {
  "colab": {
   "provenance": []
  },
  "kernelspec": {
   "display_name": "Python 3 (ipykernel)",
   "language": "python",
   "name": "python3"
  },
  "language_info": {
   "codemirror_mode": {
    "name": "ipython",
    "version": 3
   },
   "file_extension": ".py",
   "mimetype": "text/x-python",
   "name": "python",
   "nbconvert_exporter": "python",
   "pygments_lexer": "ipython3",
   "version": "3.10.9"
  }
 },
 "nbformat": 4,
 "nbformat_minor": 1
}
