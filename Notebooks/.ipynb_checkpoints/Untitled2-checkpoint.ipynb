{
 "cells": [
  {
   "cell_type": "markdown",
   "id": "1cac428c",
   "metadata": {},
   "source": [
    "## Basic CNN Model"
   ]
  },
  {
   "cell_type": "code",
   "execution_count": null,
   "id": "4a24e9c0",
   "metadata": {},
   "outputs": [],
   "source": [
    "from google.colab import drive\n",
    "drive.mount('/content/drive')"
   ]
  },
  {
   "cell_type": "code",
   "execution_count": null,
   "id": "05b76e1a",
   "metadata": {},
   "outputs": [],
   "source": [
    "train_path = '/content/drive/MyDrive/Phase-4-project/train'\n",
    "test_path = '/content/drive/MyDrive/Phase-4-project/test'\n",
    "val_path = '/content/drive/MyDrive/Phase-4-project/val'"
   ]
  },
  {
   "cell_type": "code",
   "execution_count": null,
   "id": "d054a973",
   "metadata": {},
   "outputs": [],
   "source": [
    "from tensorflow.keras.preprocessing.image import ImageDataGenerator\n",
    "\n",
    "\n",
    "# Define image dimensions\n",
    "image_height, image_width = 224, 224\n",
    "\n",
    "# Create data generators with preprocessing and augmentation for training data\n",
    "train_datagen = ImageDataGenerator(\n",
    "    rescale=1.0/255.0,             # Normalize pixel values to [0, 1]\n",
    "    rotation_range=20,            # Random rotation\n",
    "    width_shift_range=0.2,        # Random horizontal shift\n",
    "    height_shift_range=0.2,       # Random vertical shift\n",
    "    horizontal_flip=True,         # Random horizontal flip\n",
    "    shear_range=0.2,              # Shear intensity\n",
    "    zoom_range=0.2                # Random zoom\n",
    ")\n",
    "\n",
    "# Create data generators for validation and test data (only rescaling)\n",
    "val_datagen = ImageDataGenerator(rescale=1.0/255.0)\n",
    "test_datagen = ImageDataGenerator(rescale=1.0/255.0)\n",
    "\n",
    "# Flow data from directories and apply preprocessing\n",
    "batch_size = 32"
   ]
  },
  {
   "cell_type": "code",
   "execution_count": null,
   "id": "de66ca5c",
   "metadata": {},
   "outputs": [],
   "source": [
    "train_generator = train_datagen.flow_from_directory(\n",
    "    train_path,\n",
    "    target_size=(image_height, image_width),\n",
    "    batch_size=batch_size,\n",
    "    class_mode='binary'  # Assuming binary classification (e.g., pneumonia vs. normal)\n",
    ")\n",
    "\n",
    "val_generator = val_datagen.flow_from_directory(\n",
    "    val_path,\n",
    "    target_size=(image_height, image_width),\n",
    "    batch_size=batch_size,\n",
    "    class_mode='binary'\n",
    ")\n",
    "\n",
    "test_generator = test_datagen.flow_from_directory(\n",
    "    test_path,\n",
    "    target_size=(image_height, image_width),\n",
    "    batch_size=batch_size,\n",
    "    class_mode='binary'\n",
    ")\n"
   ]
  },
  {
   "cell_type": "code",
   "execution_count": null,
   "id": "ca585c6c",
   "metadata": {},
   "outputs": [],
   "source": [
    "## Model\n",
    "from tensorflow.keras.models import Sequential\n",
    "from tensorflow.keras.layers import Conv2D, MaxPooling2D, Flatten, Dense, Dropout\n",
    "\n",
    "# Create a Sequential model\n",
    "baseline_model = Sequential()\n",
    "\n",
    "\n",
    "baseline_model.add(layers.Conv2D(32, (3, 3), activation='relu',\n",
    "                        input_shape=(image_height, image_width, 3)))\n",
    "baseline_model.add(layers.MaxPooling2D((2, 2)))\n",
    "\n",
    "baseline_model.add(layers.Conv2D(64, (3, 3), activation='relu'))\n",
    "baseline_model.add(layers.MaxPooling2D((2, 2)))\n",
    "\n",
    "baseline_model.add(layers.Flatten())\n",
    "baseline_model.add(layers.Dense(256, activation='relu'))\n",
    "baseline_model.add(layers.Dense(1, activation='sigmoid'))\n",
    "\n",
    "# Compile the model\n",
    "baseline_model.compile(optimizer='adam',loss='binary_crossentropy', metrics=['accuracy'])\n",
    "\n",
    "# Display the model summary\n",
    "baseline_model.summary()"
   ]
  },
  {
   "cell_type": "code",
   "execution_count": null,
   "id": "9f2fae73",
   "metadata": {},
   "outputs": [],
   "source": [
    "from tensorflow.keras.callbacks import ModelCheckpoint\n",
    "\n",
    "# Define a callback to save the best model\n",
    "checkpoint_callback = ModelCheckpoint(\n",
    "    \"baseline_best_model.h5\",  # Specify the filename for the saved model\n",
    "    monitor='val_loss',  # Monitor validation loss\n",
    "    mode='min',  # Save the model when validation loss decreases\n",
    "    save_best_only=True,  # Only save the best model\n",
    "    verbose=1  # Display progress messages\n",
    ")"
   ]
  },
  {
   "cell_type": "code",
   "execution_count": null,
   "id": "50b96dae",
   "metadata": {},
   "outputs": [],
   "source": [
    "# Define the number of epochs and batch size\n",
    "epochs = 10  # You can adjust this\n",
    "\n",
    "# Fit the model\n",
    "history = baseline_model.fit(\n",
    "    train_generator,\n",
    "    epochs=epochs,\n",
    "    validation_data=val_generator,\n",
    "    callbacks=[checkpoint_callback]  # Pass the callback to the fit method\n",
    ")"
   ]
  },
  {
   "cell_type": "code",
   "execution_count": null,
   "id": "e881f7c1",
   "metadata": {},
   "outputs": [],
   "source": [
    "import pickle\n",
    "#Save the training history\n",
    "import pickle\n",
    "with open('history.pkl', 'wb') as file:\n",
    "    pickle.dump(history.history, file)"
   ]
  },
  {
   "cell_type": "code",
   "execution_count": null,
   "id": "babaa4bf",
   "metadata": {},
   "outputs": [],
   "source": [
    "# Plot training and validation curves\n",
    "plt.figure(figsize=(12, 5))\n",
    "\n",
    "# Plot training & validation accuracy values\n",
    "plt.subplot(1, 2, 1)\n",
    "plt.plot(history.history['accuracy'])\n",
    "plt.plot(history.history['val_accuracy'])\n",
    "plt.title('Model Accuracy')\n",
    "plt.xlabel('Epoch')\n",
    "plt.ylabel('Accuracy')\n",
    "plt.legend(['Train', 'Validation'], loc='upper left')\n",
    "\n",
    "# Plot training & validation loss values\n",
    "plt.subplot(1, 2, 2)\n",
    "plt.plot(history.history['loss'])\n",
    "plt.plot(history.history['val_loss'])\n",
    "plt.title('Model Loss')\n",
    "plt.xlabel('Epoch')\n",
    "plt.ylabel('Loss')\n",
    "plt.legend(['Train', 'Validation'], loc='upper right')\n",
    "\n",
    "plt.tight_layout()\n",
    "plt.show()\n"
   ]
  }
 ],
 "metadata": {
  "kernelspec": {
   "display_name": "Python 3 (ipykernel)",
   "language": "python",
   "name": "python3"
  },
  "language_info": {
   "codemirror_mode": {
    "name": "ipython",
    "version": 3
   },
   "file_extension": ".py",
   "mimetype": "text/x-python",
   "name": "python",
   "nbconvert_exporter": "python",
   "pygments_lexer": "ipython3",
   "version": "3.10.9"
  }
 },
 "nbformat": 4,
 "nbformat_minor": 5
}
